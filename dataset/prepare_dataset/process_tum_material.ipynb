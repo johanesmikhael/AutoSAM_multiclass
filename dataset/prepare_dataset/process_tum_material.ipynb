{
 "cells": [
  {
   "cell_type": "code",
   "execution_count": null,
   "metadata": {},
   "outputs": [],
   "source": [
    "import os\n",
    "import numpy as np\n",
    "import matplotlib.pyplot as plt\n",
    "\n",
    "from PIL import Image\n",
    "from glob import glob\n",
    "from os.path import join, basename, splitext\n",
    "from tqdm import tqdm\n",
    "\n",
    "import shutil\n",
    "\n"
   ]
  },
  {
   "cell_type": "code",
   "execution_count": null,
   "metadata": {},
   "outputs": [],
   "source": [
    "target_root = '../../data/tum_material'\n",
    "os.path.isdir(target_root)"
   ]
  },
  {
   "cell_type": "code",
   "execution_count": null,
   "metadata": {},
   "outputs": [],
   "source": [
    "from matplotlib.colors import ListedColormap\n",
    "\n",
    "# material classes\n",
    "color_mapping = {\n",
    "    (255, 0, 255): \"Reinforced Concrete\",\n",
    "    (255, 135, 0): \"Unreinforced Concrete\",\n",
    "    (0, 255, 36): \"Precast Concrete\",\n",
    "    (25, 0, 255): \"Masonry\",\n",
    "    (25, 124, 13): \"Slit\",\n",
    "    (255, 250, 0): \"XPS Insulation\",\n",
    "    (255, 0, 0): \"Hard Insulation\",\n",
    "    (0, 235, 248): \"Soft Insulation (Computer-Aided)\",\n",
    "    (147, 27, 236): \"Soft Insulation (Hand-Drawn)\",\n",
    "    (0, 0, 0): \"Non-Material\"\n",
    "}\n",
    "\n",
    "color_to_class = {\n",
    "    (255, 0, 249): 1,\n",
    "    (255, 135, 0): 2,\n",
    "    (0, 255, 36): 3,\n",
    "    (25, 0, 255): 4,\n",
    "    (25, 124, 13): 5,\n",
    "    (255, 249, 0): 6,\n",
    "    (255, 0, 0): 7,\n",
    "    (0, 238, 255): 8,\n",
    "    (147, 27, 236): 8,\n",
    "    (0, 0, 0): 0\n",
    "}\n",
    "\n",
    "class_to_labels = {\n",
    "    0: \"Non-Material\",\n",
    "    1: \"Reinforced Concrete\",\n",
    "    2: \"Unreinforced Concrete\",\n",
    "    3: \"Precast Concrete\",\n",
    "    4: \"Masonry\",\n",
    "    5: \"Slit\",\n",
    "    6: \"XPS Insulation\",\n",
    "    7: \"Hard Insulation\",\n",
    "    8: \"Soft Insulation \",\n",
    "}\n",
    "\n",
    "# Get a single color for each class\n",
    "# If a class has multiple RGBs (like class 8), just pick one\n",
    "class_colors = {}\n",
    "for rgb, class_id in color_to_class.items():\n",
    "    if class_id not in class_colors:\n",
    "        class_colors[class_id] = rgb\n",
    "\n",
    "# Sort by class index\n",
    "sorted_classes = sorted(class_colors.items())\n",
    "\n",
    "# Normalize RGBs to [0,1] range\n",
    "cmap_colors = [np.array(rgb) / 255.0 for _, rgb in sorted_classes]\n",
    "\n",
    "# Create ListedColormap\n",
    "cmap_material = ListedColormap(cmap_colors)\n",
    "label_names = [class_to_labels[class_id] for class_id, _ in sorted_classes]\n",
    "\n"
   ]
  },
  {
   "cell_type": "code",
   "execution_count": null,
   "metadata": {},
   "outputs": [],
   "source": [
    "masks_dirs = glob(join(target_root, '*', 'masks'))\n",
    "# Define a tolerance value (e.g., ±10 per channel)\n",
    "\n",
    "masks_dirs"
   ]
  },
  {
   "cell_type": "code",
   "execution_count": null,
   "metadata": {},
   "outputs": [],
   "source": [
    "masks_dirs = glob(join(target_root, '*', 'masks'))\n",
    "# Define a tolerance value (e.g., ±10 per channel)\n",
    "COLOR_TOLERANCE = 10\n",
    "for masks_dir in masks_dirs:\n",
    "    print(masks_dir)\n",
    "    anno_dir = join(os.path.dirname(masks_dir), 'anno')\n",
    "    if not os.path.exists(anno_dir):\n",
    "        os.makedirs(anno_dir)\n",
    "    mask_paths = glob(join(masks_dir, '*.png'))\n",
    "    for mask_path in tqdm(mask_paths):\n",
    "        mask_img = Image.open(mask_path).convert('RGB')\n",
    "        mask_np = np.asarray(mask_img)\n",
    "        \n",
    "        anno_img = np.zeros((mask_np.shape[0], mask_np.shape[1]), dtype=np.uint8)\n",
    "\n",
    "        # map each color to class\n",
    "        for color, class_id in color_to_class.items():\n",
    "            diff = np.abs(mask_np - np.array(color))\n",
    "            matches = np.all(diff <= COLOR_TOLERANCE, axis=-1)\n",
    "            anno_img[matches] = class_id\n",
    "\n",
    "        # save single-channel label image\n",
    "        output_filename = os.path.basename(mask_path)\n",
    "        output_path = join(anno_dir, output_filename)\n",
    "        Image.fromarray(anno_img).save(output_path)\n",
    "\n",
    "\n"
   ]
  },
  {
   "cell_type": "code",
   "execution_count": null,
   "metadata": {},
   "outputs": [],
   "source": [
    "# check the results\n",
    "i = 0\n",
    "anno_dirs = sorted(glob(join(target_root, '*', 'anno')))\n",
    "image_dirs = sorted(glob(join(target_root, '*', 'images')))\n",
    "anno_dir = anno_dirs[i]\n",
    "image_dir = image_dirs[i]\n",
    "\n",
    "anno_images = sorted(glob(join(anno_dir, '*.png')))\n",
    "drawing_imgs = sorted(glob(join(image_dir, '*.jpg')))\n",
    "\n",
    "for rand_i in np.random.choice(range(len(anno_images)), 10, replace=False):\n",
    "    assert splitext(basename(drawing_imgs[rand_i]))[0] == splitext(basename(anno_images[rand_i]))[0]\n",
    "    drawing = Image.open(drawing_imgs[rand_i])\n",
    "    drawing_np = np.asarray(drawing)\n",
    "    anno = Image.open(anno_images[rand_i])\n",
    "    anno_np = np.asarray(anno)\n",
    "    fig, axs = plt.subplots(1, 2, figsize=(10,5), dpi=150)\n",
    "    axs[0].imshow(drawing_np)\n",
    "    axs[0].set_title('drawing')\n",
    "    # axs[1].matshow(anno_np, vmin=0, vmax=8, cmap='jet')\n",
    "    axs[1].imshow(anno_np, vmin=0, vmax=8, cmap=cmap_material)\n",
    "    axs[1].set_title('labels')\n",
    "    plt.tight_layout()"
   ]
  },
  {
   "cell_type": "code",
   "execution_count": null,
   "metadata": {},
   "outputs": [],
   "source": [
    "# notes\n",
    "# the tile size appear to be like 650px"
   ]
  },
  {
   "cell_type": "code",
   "execution_count": null,
   "metadata": {},
   "outputs": [],
   "source": [
    "len(anno_images)"
   ]
  },
  {
   "cell_type": "code",
   "execution_count": null,
   "metadata": {},
   "outputs": [],
   "source": [
    "len(drawing_imgs)"
   ]
  }
 ],
 "metadata": {
  "kernelspec": {
   "display_name": "autosam2",
   "language": "python",
   "name": "python3"
  },
  "language_info": {
   "codemirror_mode": {
    "name": "ipython",
    "version": 3
   },
   "file_extension": ".py",
   "mimetype": "text/x-python",
   "name": "python",
   "nbconvert_exporter": "python",
   "pygments_lexer": "ipython3",
   "version": "3.11.11"
  }
 },
 "nbformat": 4,
 "nbformat_minor": 2
}
