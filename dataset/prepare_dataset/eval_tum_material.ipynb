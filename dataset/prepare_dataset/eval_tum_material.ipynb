{
 "cells": [
  {
   "cell_type": "code",
   "execution_count": 1,
   "id": "f2419c4a",
   "metadata": {},
   "outputs": [],
   "source": [
    "import os\n",
    "import numpy as np\n",
    "from PIL import Image\n",
    "import json\n",
    "from os.path import join, basename, splitext\n",
    "from glob import glob"
   ]
  },
  {
   "cell_type": "code",
   "execution_count": null,
   "id": "e79df874",
   "metadata": {},
   "outputs": [],
   "source": [
    "def compute_class_weights(folder, num_classes=9):\n",
    "    \"\"\"\n",
    "    Compute class weights using median frequency balancing.\n",
    "\n",
    "    Args:\n",
    "        folder (str): The folder containing the segmentation masks.\n",
    "        num_classes (int): Total number of classes including background.\n",
    "\n",
    "    Returns:\n",
    "        dict: A dictionary with keys as class index (string) and values as class weights.\n",
    "    \"\"\"\n",
    "    # Initialize an array to store the pixel counts for each class.\n",
    "    counts = np.zeros(num_classes, dtype=np.float64)\n",
    "    total_pixels = 0\n",
    "    \n",
    "    # Iterate over all files in the provided folder.\n",
    "    for filename in os.listdir(folder):\n",
    "        # Filter for common image extensions.\n",
    "        if filename.lower().endswith(('.png')):\n",
    "            image_path = os.path.join(folder, filename)\n",
    "            try:\n",
    "                with Image.open(image_path) as img:\n",
    "                    # Convert image to grayscale; segmentation masks are assumed to have values 0 to num_classes-1.\n",
    "                    # Adjust mode conversion if your masks are stored differently.\n",
    "                    arr = np.array(img)\n",
    "            except Exception as e:\n",
    "                print(f\"Could not process {filename}: {e}\")\n",
    "                continue\n",
    "            \n",
    "            # Count the number of pixels for each class.\n",
    "            for i in range(num_classes):\n",
    "                counts[i] += np.sum(arr == i)\n",
    "            total_pixels += arr.size\n",
    "\n",
    "    # Calculate the frequency of each class (proportion of pixels).\n",
    "    frequencies = counts / total_pixels if total_pixels > 0 else np.zeros_like(counts)\n",
    "    \n",
    "    # For median frequency balancing, we compute the median frequency among classes that are present.\n",
    "    nonzero_frequencies = frequencies[frequencies > 0]\n",
    "    if len(nonzero_frequencies) == 0:\n",
    "        print(\"No class pixels found in the dataset.\")\n",
    "        return {}\n",
    "    median_freq = np.median(nonzero_frequencies)\n",
    "\n",
    "    # Compute weight for each class\n",
    "    weights = {}\n",
    "    for i in range(num_classes):\n",
    "        if frequencies[i] > 0:\n",
    "            weights[str(i)] = float(median_freq / frequencies[i])\n",
    "        else:\n",
    "            # If a class does not exist in the dataset, you may set its weight to 0 or some default value.\n",
    "            weights[str(i)] = 0.0\n",
    "    \n",
    "    return weights"
   ]
  },
  {
   "cell_type": "code",
   "execution_count": 3,
   "id": "090ea33a",
   "metadata": {},
   "outputs": [
    {
     "data": {
      "text/plain": [
       "['../../data/tum_material/Hand-drawn/anno',\n",
       " '../../data/tum_material/CAD/anno',\n",
       " '../../data/tum_material/BIM/anno']"
      ]
     },
     "execution_count": 3,
     "metadata": {},
     "output_type": "execute_result"
    }
   ],
   "source": [
    "target_root = '../../data/tum_material'\n",
    "assert os.path.isdir(target_root)\n",
    "masks_dirs = glob(join(target_root, '*', 'anno'))\n",
    "masks_dirs"
   ]
  },
  {
   "cell_type": "code",
   "execution_count": 4,
   "id": "ec59a7e4",
   "metadata": {},
   "outputs": [
    {
     "name": "stdout",
     "output_type": "stream",
     "text": [
      "Processing anno\n",
      "Class weights saved to ../../data/tum_material/Hand-drawn/class_weights.json\n",
      "Processing anno\n",
      "Class weights saved to ../../data/tum_material/CAD/class_weights.json\n",
      "Processing anno\n",
      "Class weights saved to ../../data/tum_material/BIM/class_weights.json\n"
     ]
    }
   ],
   "source": [
    "for folder_path in masks_dirs:\n",
    "    folder_name = basename(folder_path)\n",
    "    print(f'Processing {folder_name}')\n",
    "    weights = compute_class_weights(folder_path)\n",
    "    parent_folder = os.path.dirname(folder_path)\n",
    "    \n",
    "    # Save the weights to a JSON file\n",
    "    output_json_path = join(parent_folder, f'class_weights.json')\n",
    "    with open(output_json_path, 'w') as json_file:\n",
    "        json.dump(weights, json_file, indent=4)\n",
    "    \n",
    "    print(f'Class weights saved to {output_json_path}')"
   ]
  }
 ],
 "metadata": {
  "kernelspec": {
   "display_name": "autosam2",
   "language": "python",
   "name": "python3"
  },
  "language_info": {
   "codemirror_mode": {
    "name": "ipython",
    "version": 3
   },
   "file_extension": ".py",
   "mimetype": "text/x-python",
   "name": "python",
   "nbconvert_exporter": "python",
   "pygments_lexer": "ipython3",
   "version": "3.11.11"
  }
 },
 "nbformat": 4,
 "nbformat_minor": 5
}
