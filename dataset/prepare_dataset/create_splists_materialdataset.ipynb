{
 "cells": [
  {
   "cell_type": "code",
   "execution_count": 2,
   "metadata": {},
   "outputs": [],
   "source": [
    "import pickle\n",
    "import os\n",
    "import random\n",
    "import numpy as np\n",
    "from glob import glob\n",
    "from os.path import join, basename, splitext\n",
    "from PIL import Image"
   ]
  },
  {
   "cell_type": "code",
   "execution_count": 1,
   "metadata": {},
   "outputs": [],
   "source": [
    "def create_splits(dir_path):\n",
    "    print(dir_path)\n",
    "    files = glob(join(dir_path, 'images/*.jpg'))\n",
    "    files_mask = glob(join(dir_path, 'anno/*.png'))\n",
    "    file_names = [splitext(basename(f))[0] for f in files]\n",
    "    file_names_mask = [splitext(basename(f))[0] for f in files_mask]\n",
    "    # check pairings\n",
    "    assert (len(file_names) == len(file_names_mask))\n",
    "    for f in file_names:\n",
    "        assert(f in file_names_mask)\n",
    "    trainset_size = len(file_names)*60//100\n",
    "    valset_size = len(file_names)*20//100\n",
    "    testset_size = len(file_names)*20//100\n",
    "\n",
    "    rng = np.random.default_rng(2025)\n",
    "    rng.shuffle(file_names)\n",
    "    trainset = file_names[:trainset_size]\n",
    "    valset = file_names[trainset_size:+trainset_size+valset_size]\n",
    "    testset = file_names[-testset_size:]\n",
    "    print(trainset_size, valset_size, testset_size)\n",
    "    print(len(trainset), len(valset), len(testset))\n",
    "\n",
    "    split_dict = dict()\n",
    "    split_dict['train'] = trainset\n",
    "    split_dict['val'] = valset\n",
    "    split_dict['test'] = testset\n",
    "    splits = [split_dict]\n",
    "    \n",
    "    with open(join(dir_path, 'splits.pkl'), 'wb') as f:\n",
    "        pickle.dump(splits, f)\n",
    "\n",
    "\n",
    "\n",
    "    "
   ]
  },
  {
   "cell_type": "code",
   "execution_count": 3,
   "metadata": {},
   "outputs": [
    {
     "data": {
      "text/plain": [
       "True"
      ]
     },
     "execution_count": 3,
     "metadata": {},
     "output_type": "execute_result"
    }
   ],
   "source": [
    "data_root = '../../data/m1766395_clean'\n",
    "os.path.isdir(data_root)"
   ]
  },
  {
   "cell_type": "code",
   "execution_count": 4,
   "metadata": {},
   "outputs": [
    {
     "name": "stdout",
     "output_type": "stream",
     "text": [
      "../../data/m1766395_clean/Hand-drawn\n",
      "412 137 137\n",
      "412 137 137\n",
      "../../data/m1766395_clean/CAD\n",
      "367 122 122\n",
      "367 122 122\n",
      "../../data/m1766395_clean/BIM\n",
      "628 209 209\n",
      "628 209 209\n"
     ]
    }
   ],
   "source": [
    "for f in glob(join(data_root, '*')):\n",
    "    if os.path.isdir(f):\n",
    "        create_splits(f)"
   ]
  }
 ],
 "metadata": {
  "kernelspec": {
   "display_name": "autosam2",
   "language": "python",
   "name": "python3"
  },
  "language_info": {
   "codemirror_mode": {
    "name": "ipython",
    "version": 3
   },
   "file_extension": ".py",
   "mimetype": "text/x-python",
   "name": "python",
   "nbconvert_exporter": "python",
   "pygments_lexer": "ipython3",
   "version": "3.11.11"
  }
 },
 "nbformat": 4,
 "nbformat_minor": 2
}
